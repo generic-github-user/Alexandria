{
 "cells": [
  {
   "cell_type": "code",
   "execution_count": 61,
   "id": "b8e3b525-dce0-424e-b76e-e0647f449ae4",
   "metadata": {},
   "outputs": [
    {
     "data": {
      "text/plain": [
       "<__main__.Page at 0x11d2c8ffb50>"
      ]
     },
     "execution_count": 61,
     "metadata": {},
     "output_type": "execute_result"
    }
   ],
   "source": [
    "from urllib.parse import urlparse\n",
    "\n",
    "path = './may-28.txt'\n",
    "data = []\n",
    "with open(path, 'r', encoding='utf8') as file:\n",
    "    l = 0\n",
    "    for line in file:\n",
    "        data.append(line)\n",
    "        if l > 100:\n",
    "            break\n",
    "        l += 1\n",
    "\n",
    "class Page:\n",
    "    def __init__(self, info):\n",
    "        if ' ' in info:\n",
    "            parts = info.split(' | ')\n",
    "        else:\n",
    "            parts = info, ''\n",
    "        self.url, self.title = parts[0], ''.join(parts[1:])\n",
    "        self.parse = urlparse(self.url)\n",
    "        \n",
    "class Collection:\n",
    "    def __init__(self):\n",
    "        self.urls = []\n",
    "        \n",
    "    def add(self, urls):\n",
    "        if type(urls) is str:\n",
    "            urls = Page(urls)\n",
    "            self.urls.append(urls)\n",
    "        elif type(urls) is list:\n",
    "            for url in urls:\n",
    "                self.urls.append(Page(url))\n",
    "    \n",
    "    def find(self, attr, value=None):\n",
    "        if not callable(attr):\n",
    "            attr = lambda x: getattr(x, attr) == value\n",
    "        return list(filter(attr, self.urls))\n",
    "    \n",
    "c = Collection()\n",
    "c.add(data)\n",
    "# print(c.urls[100].parse)\n",
    "c.find(lambda x: len(x.url)>1000)[5]"
   ]
  },
  {
   "cell_type": "code",
   "execution_count": 35,
   "id": "fcbb70ac-9755-4ccb-9bcf-b52d41067ad2",
   "metadata": {},
   "outputs": [
    {
     "data": {
      "text/plain": [
       "'e'"
      ]
     },
     "execution_count": 35,
     "metadata": {},
     "output_type": "execute_result"
    }
   ],
   "source": [
    "data[1][5]"
   ]
  },
  {
   "cell_type": "code",
   "execution_count": null,
   "id": "0f2995ba-ca10-48e5-a399-75ed1c0b5f5e",
   "metadata": {},
   "outputs": [],
   "source": []
  }
 ],
 "metadata": {
  "kernelspec": {
   "display_name": "Python 3",
   "language": "python",
   "name": "python3"
  },
  "language_info": {
   "codemirror_mode": {
    "name": "ipython",
    "version": 3
   },
   "file_extension": ".py",
   "mimetype": "text/x-python",
   "name": "python",
   "nbconvert_exporter": "python",
   "pygments_lexer": "ipython3",
   "version": "3.9.4"
  }
 },
 "nbformat": 4,
 "nbformat_minor": 5
}
